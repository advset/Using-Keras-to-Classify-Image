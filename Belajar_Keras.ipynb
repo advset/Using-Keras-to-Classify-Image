{
  "nbformat": 4,
  "nbformat_minor": 0,
  "metadata": {
    "colab": {
      "name": "Belajar Keras.ipynb",
      "provenance": [],
      "collapsed_sections": [],
      "authorship_tag": "ABX9TyPVikrni9RQNEwgSw6VTbL6",
      "include_colab_link": true
    },
    "kernelspec": {
      "name": "python3",
      "display_name": "Python 3"
    },
    "accelerator": "GPU"
  },
  "cells": [
    {
      "cell_type": "markdown",
      "metadata": {
        "id": "view-in-github",
        "colab_type": "text"
      },
      "source": [
        "<a href=\"https://colab.research.google.com/github/advset/Using-Keras-to-Classify-Image/blob/master/Belajar_Keras.ipynb\" target=\"_parent\"><img src=\"https://colab.research.google.com/assets/colab-badge.svg\" alt=\"Open In Colab\"/></a>"
      ]
    },
    {
      "cell_type": "code",
      "metadata": {
        "id": "V5zjozsf-xqU",
        "colab_type": "code",
        "colab": {
          "base_uri": "https://localhost:8080/",
          "height": 281
        },
        "outputId": "506a5a0a-b41f-42d7-98be-d15429ff4377"
      },
      "source": [
        "import numpy as np\n",
        "from matplotlib import pyplot as plt\n",
        "\n",
        "ys = 200 + np.random.randn(100)\n",
        "x = [x for x in range(len(ys))]\n",
        "\n",
        "plt.plot(x, ys, '-')\n",
        "plt.fill_between(x, ys, 195, where=(ys > 195), facecolor='g', alpha=0.6)\n",
        "\n",
        "plt.title(\"Sample Visualization\")\n",
        "plt.show()"
      ],
      "execution_count": null,
      "outputs": [
        {
          "output_type": "display_data",
          "data": {
            "image/png": "[encoded data removed]",
            "text/plain": [
              "<Figure size 432x288 with 1 Axes>"
            ]
          },
          "metadata": {
            "tags": [],
            "needs_background": "light"
          }
        }
      ]
    },
    {
      "cell_type": "code",
      "metadata": {
        "id": "8849D6K6CEs6",
        "colab_type": "code",
        "colab": {
          "base_uri": "https://localhost:8080/",
          "height": 122
        },
        "outputId": "0363cba4-7565-4533-ac9b-1293d083c7ea"
      },
      "source": [
        "from google.colab import drive\n",
        "drive.mount('/content/drive')"
      ],
      "execution_count": null,
      "outputs": [
        {
          "output_type": "stream",
          "text": [
            "Go to this URL in a browser: https://accounts.google.com/o/oauth2/auth?client_id=947318989803-6bn6qk8qdgf4n4g3pfee6491hc0brc4i.apps.googleusercontent.com&redirect_uri=urn%3aietf%3awg%3aoauth%3a2.0%3aoob&scope=email%20https%3a%2f%2fwww.googleapis.com%2fauth%2fdocs.test%20https%3a%2f%2fwww.googleapis.com%2fauth%2fdrive%20https%3a%2f%2fwww.googleapis.com%2fauth%2fdrive.photos.readonly%20https%3a%2f%2fwww.googleapis.com%2fauth%2fpeopleapi.readonly&response_type=code\n",
            "\n",
            "Enter your authorization code:\n",
            "··········\n",
            "Mounted at /content/drive\n"
          ],
          "name": "stdout"
        }
      ]
    },
    {
      "cell_type": "code",
      "metadata": {
        "id": "QF7sIyvUc_Sv",
        "colab_type": "code",
        "colab": {
          "base_uri": "https://localhost:8080/",
          "height": 374
        },
        "outputId": "151fe65e-1573-4100-c41a-7c280aba9845"
      },
      "source": [
        "from PIL import Image\n",
        "import pathlib\n",
        "\n",
        "from sklearn.model_selection import train_test_split\n",
        "import numpy as np\n",
        "import matplotlib.pyplot as plt\n",
        "import matplotlib.image as mpimg\n",
        "\n",
        "from sklearn.base import BaseEstimator, TransformerMixin\n",
        "\n",
        "from sklearn.linear_model import SGDClassifier\n",
        "from sklearn.model_selection import cross_val_predict\n",
        "from sklearn.preprocessing import StandardScaler\n",
        "import skimage\n",
        "import skimage.color\n",
        "\n",
        "from skimage.feature import hog\n",
        "\n",
        "import joblib #to store model\n",
        " \n",
        "class RGB2GrayTransformer(BaseEstimator, TransformerMixin):\n",
        "    \"\"\"\n",
        "    Convert an array of RGB images to grayscale\n",
        "    \"\"\"\n",
        " \n",
        "    def __init__(self):\n",
        "        pass\n",
        " \n",
        "    def fit(self, X, y=None):\n",
        "        \"\"\"returns itself\"\"\"\n",
        "        return self\n",
        " \n",
        "    def transform(self, X, y=None):\n",
        "        \"\"\"perform the transformation and return an array\"\"\"\n",
        "        return np.array([skimage.color.rgb2gray(img) for img in X])\n",
        " \n",
        " \n",
        "class HogTransformer(BaseEstimator, TransformerMixin):\n",
        "    \"\"\"\n",
        "    Expects an array of 2d arrays (1 channel images)\n",
        "    Calculates hog features for each img\n",
        "    \"\"\"\n",
        " \n",
        "    def __init__(self, y=None, orientations=9,\n",
        "                 pixels_per_cell=(8, 8),\n",
        "                 cells_per_block=(3, 3), block_norm='L2-Hys'):\n",
        "        self.y = y\n",
        "        self.orientations = orientations\n",
        "        self.pixels_per_cell = pixels_per_cell\n",
        "        self.cells_per_block = cells_per_block\n",
        "        self.block_norm = block_norm\n",
        " \n",
        "    def fit(self, X, y=None):\n",
        "        return self\n",
        " \n",
        "    def transform(self, X, y=None):\n",
        " \n",
        "        def local_hog(X):\n",
        "            return hog(X,\n",
        "                       orientations=self.orientations,\n",
        "                       pixels_per_cell=self.pixels_per_cell,\n",
        "                       cells_per_block=self.cells_per_block,\n",
        "                       block_norm=self.block_norm)\n",
        " \n",
        "        try: # parallel\n",
        "            return np.array([local_hog(img) for img in X])\n",
        "        except:\n",
        "            return np.array([local_hog(img) for img in X])\n",
        "\n",
        "def plot_bar(y, loc='left', relative=True):\n",
        "    width = 0.35\n",
        "    if loc == 'left':\n",
        "        n = -0.5\n",
        "    elif loc == 'right':\n",
        "        n = 0.5\n",
        " \n",
        "    # calculate counts per type and sort, to ensure their order\n",
        "    unique, counts = np.unique(y, return_counts=True)\n",
        "    sorted_index = np.argsort(unique)\n",
        "    unique = unique[sorted_index]\n",
        " \n",
        "    if relative:\n",
        "        # plot as a percentage\n",
        "        counts = 100*counts[sorted_index]/len(y)\n",
        "        ylabel_text = '% count'\n",
        "    else:\n",
        "        # plot counts\n",
        "        counts = counts[sorted_index]\n",
        "        ylabel_text = 'count'\n",
        " \n",
        "    xtemp = np.arange(len(unique))\n",
        " \n",
        "    plt.bar(xtemp + n*width, counts, align='center', alpha=.7, width=width)\n",
        "    plt.xticks(xtemp, unique)\n",
        "    plt.xlabel('equipment type')\n",
        "    plt.ylabel(ylabel_text)\n",
        "    \n",
        "\n",
        "data_list = []\n",
        "label_list = []\n",
        "\n",
        "#data_np = np.zeros((1,60,100,4))\n",
        "data_np = np.zeros((1,60,100,3))\n",
        "#data_np = np.zeros((1,120,200,3))\n",
        "label = \"Non-Covid\"\n",
        "label_list.append(label)\n",
        "\n",
        "for path in pathlib.Path(\"/content/drive/My Drive/Colab Notebooks/CT_NonCOVID_resized\").iterdir():\n",
        "    if path.is_file():\n",
        "        #data = Image.open(path, \"r\")\n",
        "        data = Image.open(path)\n",
        "        #data = mpimg.imread(str(path))\n",
        "        #data =data.resize((100,60),Image.ANTIALIAS)\n",
        "        data = np.array(data)\n",
        "        #data_list.append(data)\n",
        "        data_np = np.append(data_np, np.expand_dims(data, axis = 0), axis = 0)\n",
        "        label = \"Non-Covid\"\n",
        "        label_list.append(label)\n",
        "         \n",
        "\n",
        "for path in pathlib.Path(\"/content/drive/My Drive/Colab Notebooks/CT_COVID_resized\").iterdir():\n",
        "    if path.is_file():\n",
        "        #data = Image.open(path, \"r\")\n",
        "        data = Image.open(path)\n",
        "        #data = mpimg.imread(str(path))\n",
        "        #data =data.resize((100,60),Image.ANTIALIAS)\n",
        "        data = np.array(data)\n",
        "        #data_list.append(data)\n",
        "        data_np = np.append(data_np, np.expand_dims(data, axis = 0), axis = 0)\n",
        "        label = \"Covid\"\n",
        "        label_list.append(label)\n",
        "\n",
        "#X = np.array(data_list)\n",
        "#y = np.array(label_list)\n",
        "X = data_np\n",
        "y = np.array(label_list)\n",
        "        \n",
        "X_train, X_test, y_train, y_test = train_test_split(\n",
        "    X,\n",
        "    y,\n",
        "    test_size=0.2,\n",
        "    shuffle=True,\n",
        "    random_state=42,\n",
        ")\n",
        "\n",
        "#seeing data\n",
        "plt.suptitle('relative amount of photos per type')\n",
        "plot_bar(y_train, loc='left')\n",
        "plot_bar(y_test, loc='right')\n",
        "plt.legend([\n",
        "    'train ({0} photos)'.format(len(y_train)),\n",
        "    'test ({0} photos)'.format(len(y_test))\n",
        "]);\n",
        "\n",
        "# create an instance of each transformer\n",
        "grayify = RGB2GrayTransformer()\n",
        "hogify = HogTransformer(\n",
        "    pixels_per_cell=(8, 8),\n",
        "    cells_per_block=(2,2),\n",
        "    orientations=9,\n",
        "    block_norm='L2-Hys'\n",
        ")\n",
        "scalify = StandardScaler()\n",
        " \n",
        "# call fit_transform on each transform converting X_train step by step\n",
        "X_train_gray = grayify.fit_transform(X_train)\n",
        "X_train_hog = hogify.fit_transform(X_train_gray)\n",
        "X_train_prepared = scalify.fit_transform(X_train_hog)\n",
        "#X_train_prepared = scalify.fit_transform(np.asarray(X_train_hog))\n",
        " \n",
        "print(X_train_prepared.shape)\n",
        "\n",
        "# training\n",
        "sgd_clf = SGDClassifier(random_state=42, max_iter=1000, tol=1e-3)\n",
        "sgd_clf.fit(X_train_prepared, y_train)\n",
        "\n",
        "X_test_gray = grayify.transform(X_test)\n",
        "X_test_hog = hogify.transform(X_test_gray)\n",
        "X_test_prepared = scalify.transform(X_test_hog)\n",
        "\n",
        "# testing\n",
        "y_pred = sgd_clf.predict(X_test_prepared)\n",
        "print(np.array(y_pred == y_test)[:25])\n",
        "print('')\n",
        "print('Percentage correct: ', 100*np.sum(y_pred == y_test)/len(y_test))\n",
        "\n",
        "# save the model to disk\n",
        "filename = 'SGD_'+str(int(100*np.sum(y_pred == y_test)/len(y_test)))+'%accuracy.sav'\n",
        "joblib.dump(sgd_clf, filename)\n"
      ],
      "execution_count": null,
      "outputs": [
        {
          "output_type": "error",
          "ename": "FileNotFoundError",
          "evalue": "ignored",
          "traceback": [
            "\u001b[0;31m---------------------------------------------------------------------------\u001b[0m",
            "\u001b[0;31mFileNotFoundError\u001b[0m                         Traceback (most recent call last)",
            "\u001b[0;32m<ipython-input-1-f5f82812f1be>\u001b[0m in \u001b[0;36m<module>\u001b[0;34m()\u001b[0m\n\u001b[1;32m    106\u001b[0m \u001b[0mlabel_list\u001b[0m\u001b[0;34m.\u001b[0m\u001b[0mappend\u001b[0m\u001b[0;34m(\u001b[0m\u001b[0mlabel\u001b[0m\u001b[0;34m)\u001b[0m\u001b[0;34m\u001b[0m\u001b[0;34m\u001b[0m\u001b[0m\n\u001b[1;32m    107\u001b[0m \u001b[0;34m\u001b[0m\u001b[0m\n\u001b[0;32m--> 108\u001b[0;31m \u001b[0;32mfor\u001b[0m \u001b[0mpath\u001b[0m \u001b[0;32min\u001b[0m \u001b[0mpathlib\u001b[0m\u001b[0;34m.\u001b[0m\u001b[0mPath\u001b[0m\u001b[0;34m(\u001b[0m\u001b[0;34m\"/content/drive/My Drive/Colab Notebooks/CT_NonCOVID_resized\"\u001b[0m\u001b[0;34m)\u001b[0m\u001b[0;34m.\u001b[0m\u001b[0miterdir\u001b[0m\u001b[0;34m(\u001b[0m\u001b[0;34m)\u001b[0m\u001b[0;34m:\u001b[0m\u001b[0;34m\u001b[0m\u001b[0;34m\u001b[0m\u001b[0m\n\u001b[0m\u001b[1;32m    109\u001b[0m     \u001b[0;32mif\u001b[0m \u001b[0mpath\u001b[0m\u001b[0;34m.\u001b[0m\u001b[0mis_file\u001b[0m\u001b[0;34m(\u001b[0m\u001b[0;34m)\u001b[0m\u001b[0;34m:\u001b[0m\u001b[0;34m\u001b[0m\u001b[0;34m\u001b[0m\u001b[0m\n\u001b[1;32m    110\u001b[0m         \u001b[0;31m#data = Image.open(path, \"r\")\u001b[0m\u001b[0;34m\u001b[0m\u001b[0;34m\u001b[0m\u001b[0;34m\u001b[0m\u001b[0m\n",
            "\u001b[0;32m/usr/lib/python3.6/pathlib.py\u001b[0m in \u001b[0;36miterdir\u001b[0;34m(self)\u001b[0m\n\u001b[1;32m   1079\u001b[0m         \u001b[0;32mif\u001b[0m \u001b[0mself\u001b[0m\u001b[0;34m.\u001b[0m\u001b[0m_closed\u001b[0m\u001b[0;34m:\u001b[0m\u001b[0;34m\u001b[0m\u001b[0;34m\u001b[0m\u001b[0m\n\u001b[1;32m   1080\u001b[0m             \u001b[0mself\u001b[0m\u001b[0;34m.\u001b[0m\u001b[0m_raise_closed\u001b[0m\u001b[0;34m(\u001b[0m\u001b[0;34m)\u001b[0m\u001b[0;34m\u001b[0m\u001b[0;34m\u001b[0m\u001b[0m\n\u001b[0;32m-> 1081\u001b[0;31m         \u001b[0;32mfor\u001b[0m \u001b[0mname\u001b[0m \u001b[0;32min\u001b[0m \u001b[0mself\u001b[0m\u001b[0;34m.\u001b[0m\u001b[0m_accessor\u001b[0m\u001b[0;34m.\u001b[0m\u001b[0mlistdir\u001b[0m\u001b[0;34m(\u001b[0m\u001b[0mself\u001b[0m\u001b[0;34m)\u001b[0m\u001b[0;34m:\u001b[0m\u001b[0;34m\u001b[0m\u001b[0;34m\u001b[0m\u001b[0m\n\u001b[0m\u001b[1;32m   1082\u001b[0m             \u001b[0;32mif\u001b[0m \u001b[0mname\u001b[0m \u001b[0;32min\u001b[0m \u001b[0;34m{\u001b[0m\u001b[0;34m'.'\u001b[0m\u001b[0;34m,\u001b[0m \u001b[0;34m'..'\u001b[0m\u001b[0;34m}\u001b[0m\u001b[0;34m:\u001b[0m\u001b[0;34m\u001b[0m\u001b[0;34m\u001b[0m\u001b[0m\n\u001b[1;32m   1083\u001b[0m                 \u001b[0;31m# Yielding a path object for these makes little sense\u001b[0m\u001b[0;34m\u001b[0m\u001b[0;34m\u001b[0m\u001b[0;34m\u001b[0m\u001b[0m\n",
            "\u001b[0;32m/usr/lib/python3.6/pathlib.py\u001b[0m in \u001b[0;36mwrapped\u001b[0;34m(pathobj, *args)\u001b[0m\n\u001b[1;32m    385\u001b[0m         \u001b[0;34m@\u001b[0m\u001b[0mfunctools\u001b[0m\u001b[0;34m.\u001b[0m\u001b[0mwraps\u001b[0m\u001b[0;34m(\u001b[0m\u001b[0mstrfunc\u001b[0m\u001b[0;34m)\u001b[0m\u001b[0;34m\u001b[0m\u001b[0;34m\u001b[0m\u001b[0m\n\u001b[1;32m    386\u001b[0m         \u001b[0;32mdef\u001b[0m \u001b[0mwrapped\u001b[0m\u001b[0;34m(\u001b[0m\u001b[0mpathobj\u001b[0m\u001b[0;34m,\u001b[0m \u001b[0;34m*\u001b[0m\u001b[0margs\u001b[0m\u001b[0;34m)\u001b[0m\u001b[0;34m:\u001b[0m\u001b[0;34m\u001b[0m\u001b[0;34m\u001b[0m\u001b[0m\n\u001b[0;32m--> 387\u001b[0;31m             \u001b[0;32mreturn\u001b[0m \u001b[0mstrfunc\u001b[0m\u001b[0;34m(\u001b[0m\u001b[0mstr\u001b[0m\u001b[0;34m(\u001b[0m\u001b[0mpathobj\u001b[0m\u001b[0;34m)\u001b[0m\u001b[0;34m,\u001b[0m \u001b[0;34m*\u001b[0m\u001b[0margs\u001b[0m\u001b[0;34m)\u001b[0m\u001b[0;34m\u001b[0m\u001b[0;34m\u001b[0m\u001b[0m\n\u001b[0m\u001b[1;32m    388\u001b[0m         \u001b[0;32mreturn\u001b[0m \u001b[0mstaticmethod\u001b[0m\u001b[0;34m(\u001b[0m\u001b[0mwrapped\u001b[0m\u001b[0;34m)\u001b[0m\u001b[0;34m\u001b[0m\u001b[0;34m\u001b[0m\u001b[0m\n\u001b[1;32m    389\u001b[0m \u001b[0;34m\u001b[0m\u001b[0m\n",
            "\u001b[0;31mFileNotFoundError\u001b[0m: [Errno 2] No such file or directory: '/content/drive/My Drive/Colab Notebooks/CT_NonCOVID_resized'"
          ]
        }
      ]
    },
    {
      "cell_type": "code",
      "metadata": {
        "id": "CjZd_rIiKBhI",
        "colab_type": "code",
        "colab": {
          "base_uri": "https://localhost:8080/",
          "height": 34
        },
        "outputId": "20d09e57-5ed6-470b-c9b0-858ae45ec994"
      },
      "source": [
        "%tensorflow_version 1.x\n",
        "import tensorflow as tf\n",
        "device_name = tf.test.gpu_device_name()\n",
        "if device_name != '/device:GPU:0':\n",
        "  raise SystemError('GPU device not found')\n",
        "print('Found GPU at: {}'.format(device_name))"
      ],
      "execution_count": null,
      "outputs": [
        {
          "output_type": "stream",
          "text": [
            "Found GPU at: /device:GPU:0\n"
          ],
          "name": "stdout"
        }
      ]
    },
    {
      "cell_type": "code",
      "metadata": {
        "id": "ZRgEpxG8h473",
        "colab_type": "code",
        "colab": {
          "base_uri": "https://localhost:8080/",
          "height": 34
        },
        "outputId": "b4af8966-d3a1-4d16-f1a3-4732f07e0f19"
      },
      "source": [
        "!ls \"/content/drive/My Drive/Colab Notebooks\""
      ],
      "execution_count": null,
      "outputs": [
        {
          "output_type": "stream",
          "text": [
            "'Belajar Keras.ipynb'   CT_COVID_resized   CT_NonCOVID_resized\n"
          ],
          "name": "stdout"
        }
      ]
    }
  ]
}